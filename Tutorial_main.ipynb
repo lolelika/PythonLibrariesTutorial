{
 "cells": [
  {
   "cell_type": "code",
   "execution_count": 3,
   "metadata": {},
   "outputs": [
    {
     "data": {
      "application/vnd.jupyter.widget-view+json": {
       "model_id": "327cdc721f1e415dbae343aa039b3fcc",
       "version_major": 2,
       "version_minor": 0
      },
      "text/plain": [
       "HBox(children=(IntProgress(value=0, max=19), HTML(value='')))"
      ]
     },
     "metadata": {},
     "output_type": "display_data"
    },
    {
     "name": "stdout",
     "output_type": "stream",
     "text": [
      "http://www.learningaboutelectronics.com\n",
      "http://www.learningaboutelectronics.com\n",
      "http://www.learningaboutelectronics.com/Articles\n",
      "http://www.learningaboutelectronics.com/Projects\n",
      "https://www.docpid.com/\n",
      "http://www.learningaboutelectronics.com/Calculators\n",
      "http://www.learningaboutelectronics.com/Contact\n",
      "http://www.learningaboutelectronics.com/Articles\n",
      "http://www.learningaboutelectronics.com/Articles/How-to-connect-an-adjustable-voltage-regulator\n",
      "http://www.learningaboutelectronics.com/Articles/What-is-a-LM7805-voltage-regulator\n",
      "http://www.learningaboutelectronics.com/Articles/How-to-test-a-capacitor\n",
      "http://www.learningaboutelectronics.com/Articles/High-pass-filter.php\n",
      "http://www.learningaboutelectronics.com/Articles/Low-pass-filter.php\n",
      "http://www.learningaboutelectronics.com\n",
      "http://www.learningaboutelectronics.com/Articles\n",
      "http://www.learningaboutelectronics.com/Projects\n",
      "http://www.learningaboutelectronics.com/Programming\n",
      "http://www.learningaboutelectronics.com/Calculators\n",
      "http://www.learningaboutelectronics.com/Contact\n",
      "\n"
     ]
    }
   ],
   "source": [
    "import requests #module for working with HTTP\n",
    "from bs4 import BeautifulSoup #pulling data from HTML or XML\n",
    "from tqdm import tqdm_notebook\n",
    "\n",
    "getpage = requests.get(\"http://www.learningaboutelectronics.com\")\n",
    "#print (getpage)\n",
    "getpage_soup = BeautifulSoup(getpage.text,\"html.parser\")\n",
    "#print (getpage_soup)\n",
    "all_links = getpage_soup.findAll('a')\n",
    "\n",
    "for link in tqdm_notebook(all_links):\n",
    "    print (link.get('href'))"
   ]
  },
  {
   "cell_type": "code",
   "execution_count": 4,
   "metadata": {},
   "outputs": [
    {
     "data": {
      "application/vnd.jupyter.widget-view+json": {
       "model_id": "f0749341911240e28d9025154851c9c3",
       "version_major": 2,
       "version_minor": 0
      },
      "text/plain": [
       "HBox(children=(IntProgress(value=0, max=10000000), HTML(value='')))"
      ]
     },
     "metadata": {},
     "output_type": "display_data"
    },
    {
     "name": "stdout",
     "output_type": "stream",
     "text": [
      "\n"
     ]
    }
   ],
   "source": [
    "example=0\n",
    "for i in tqdm_notebook(range(10000000)):\n",
    "    example=example+1"
   ]
  },
  {
   "cell_type": "code",
   "execution_count": null,
   "metadata": {},
   "outputs": [],
   "source": [
    "import this"
   ]
  }
 ],
 "metadata": {
  "kernelspec": {
   "display_name": "Python 3",
   "language": "python",
   "name": "python3"
  },
  "language_info": {
   "codemirror_mode": {
    "name": "ipython",
    "version": 3
   },
   "file_extension": ".py",
   "mimetype": "text/x-python",
   "name": "python",
   "nbconvert_exporter": "python",
   "pygments_lexer": "ipython3",
   "version": "3.6.5"
  }
 },
 "nbformat": 4,
 "nbformat_minor": 2
}
